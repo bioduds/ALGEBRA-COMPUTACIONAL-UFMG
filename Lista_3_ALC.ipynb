{
  "nbformat": 4,
  "nbformat_minor": 0,
  "metadata": {
    "colab": {
      "name": "Lista 3 ALC.ipynb",
      "provenance": [],
      "collapsed_sections": [],
      "toc_visible": true,
      "authorship_tag": "ABX9TyMqkGWABcqCiR7R9ft3Sajb",
      "include_colab_link": true
    },
    "kernelspec": {
      "name": "python3",
      "display_name": "Python 3"
    }
  },
  "cells": [
    {
      "cell_type": "markdown",
      "metadata": {
        "id": "view-in-github",
        "colab_type": "text"
      },
      "source": [
        "<a href=\"https://colab.research.google.com/github/bioduds/ALGEBRA-COMPUTACIONAL-UFMG/blob/main/Lista_3_ALC.ipynb\" target=\"_parent\"><img src=\"https://colab.research.google.com/assets/colab-badge.svg\" alt=\"Open In Colab\"/></a>"
      ]
    },
    {
      "cell_type": "markdown",
      "metadata": {
        "id": "xGifRtHfrw7I"
      },
      "source": [
        "# Lista de Exercícios 3: Álgebra Linear Computacional\"\n",
        "---\n",
        "\n",
        "<font color=\"green\">**Prazo de submissão:</font>** 23:55 do dia 01/02/2021\n",
        "\n",
        "**Aluno:** Eduardo Capanema (2020041515)\n",
        "\n",
        "**Professores:** Erickson e Fabricio"
      ]
    },
    {
      "cell_type": "code",
      "metadata": {
        "id": "bmPtijsc8fgL"
      },
      "source": [
        "## Alguns inits e loads - descomente e rode se não visualizar corretamente\n",
        "\n",
        "# ! sudo apt-get install texlive-latex-recommended \n",
        "# ! sudo apt install texlive-latex-extra\n",
        "# ! sudo apt install dvipng\n",
        "\n",
        "import numpy as np"
      ],
      "execution_count": 2,
      "outputs": []
    },
    {
      "cell_type": "markdown",
      "metadata": {
        "id": "w_UkeNm0sluP"
      },
      "source": [
        "# Problema 1\n",
        "---\n",
        "\n",
        "Quais das matrizes $S_1, S_2, S_3, S_4$ tem dois autovalores positivos? Use um teste, não calcule os $\\lambda's$. Encontre também um vetor $x$ tal que $x^TS_1x<0$, então $S_1$ não é uma matriz definida positiva."
      ]
    },
    {
      "cell_type": "markdown",
      "metadata": {
        "id": "T3dBWWWRtWEJ"
      },
      "source": [
        "$$\n",
        "S_1 = \n",
        "\\begin{bmatrix}\n",
        "5 & 6 \\\\ \n",
        "6 & 7 \\\\ \n",
        "\\end{bmatrix}\n",
        "$$ \n",
        "\n",
        "$$\n",
        "S_2 = \n",
        "\\begin{bmatrix}\n",
        "-1 & -2 \\\\ \n",
        "-2 & -5 \\\\ \n",
        "\\end{bmatrix}\n",
        "$$\n",
        "\n",
        "$$\n",
        "S_3 = \n",
        "\\begin{bmatrix}\n",
        "1 & 10 \\\\ \n",
        "10 & 100 \\\\ \n",
        "\\end{bmatrix}\n",
        "$$\n",
        "\n",
        "$$\n",
        "S_4 = \n",
        "\\begin{bmatrix}\n",
        "1 & 10 \\\\ \n",
        "10 & 101 \\\\ \n",
        "\\end{bmatrix}\n",
        "$$\n"
      ]
    },
    {
      "cell_type": "code",
      "metadata": {
        "id": "mnTYnS52rk54"
      },
      "source": [
        "# Vamos criar as matrizes\n",
        "S1 = np.array( [ [5, 6], [6, 7] ] )\n",
        "S2 = np.array( [ [-1, -2], [-2, -5] ] )\n",
        "S3 = np.array( [ [1, 10], [10, 100] ] )\n",
        "S4 = np.array( [ [1, 10], [10, 101] ] )\n"
      ],
      "execution_count": null,
      "outputs": []
    },
    {
      "cell_type": "markdown",
      "metadata": {
        "id": "wTrnFgMvvtj4"
      },
      "source": [
        "### <font color=\"green\">**Resposta:**</font>\n",
        "\n",
        "A partir de: \n",
        "\n",
        "**Testes para A p.d.:** Os seguintes testes são condições necessárias e suficientes equivalentes para que uma matriz $A = A^T$\n",
        "seja positiva definida\n",
        "\n",
        "1. $x^TAx > 0, ∀x \\neq 0$ equivalente a $x^TS_1x<0$, para $S_1$\n",
        "2. <font color=\"blue\"> Todos os autovalores de $A$ são positivos.</font>\n",
        "3. Todas as matrizes líderes possuem determinantes positivos.\n",
        "4. Todos os pivôs são positivos (e não é preciso, teoricamente, fazer trocas de linhas na eliminação gaussiana em A).\n",
        "5. $∃R$ com colunas L.I. tal que $A = R^TR$\n",
        "\n",
        "Fonte: http://www.nacad.ufrj.br/~amit/alglin/aula8 \n",
        "\n",
        "e como não devemos calcular os autovalores para avaliar e as 5 condições são suficientes equivalentes, basta testarmos uma delas. Utilizando o site matrixcalc.org encontramos as seguintes matrizes com os pivôs:\n",
        "\n",
        "1. para S1: $\\left(\\begin{matrix}\n",
        "1 & \\frac{6}{5} & 0 \\\\\n",
        "0 & \\frac{-1}{5} & 0\n",
        "\\end{matrix}\\right)$\n",
        "\n",
        "2. para S2: $\\left(\\begin{matrix}\n",
        "1 & 1 & 0 \\\\\n",
        "0 & -3 & 0\n",
        "\\end{matrix}\\right)$\n",
        "\n",
        "3. para S3: $\\left(\\begin{matrix}\n",
        "1 & 10 & 0 \\\\\n",
        "0 & 0 & 0\n",
        "\\end{matrix}\\right)$\n",
        "\n",
        "4. para S4: $\\left(\\begin{matrix}\n",
        "1 & 10 & 0 \\\\\n",
        "0 & 1 & 0\n",
        "\\end{matrix}\\right)$\n",
        "\n",
        "Concluímos, portanto que as matrizes $S_3$ e $S_4$ são definidas positivas e, portanto, seus autovalores são positivos.\n",
        "\n",
        "Finalmente, poderemos, portanto, somente encontrar valores de $x$ para $S_1$ e $S_2$. Faremos o cálculo em python:\n"
      ]
    },
    {
      "cell_type": "code",
      "metadata": {
        "colab": {
          "base_uri": "https://localhost:8080/"
        },
        "id": "-vrcBogFeATt",
        "outputId": "d096946d-b881-4ac8-8a36-c773f1cc41cc"
      },
      "source": [
        "nD1 = np.array( [ [-1.1], [1] ] ) # após muita luta\r\n",
        "rS1 = nD1.T @ S1 @ nD1\r\n",
        "print( \"Valor negativo para x^TS1x:\", rS1 ) \r\n",
        "\r\n",
        "nD2 = np.array( [ [-1.1], [1] ] ) # o mesmo valor tb funciona para S2\r\n",
        "rS2 = nD2.T @ S2 @ nD2\r\n",
        "print( \"Valor negativo para x^TS2x:\", rS2 ) "
      ],
      "execution_count": null,
      "outputs": [
        {
          "output_type": "stream",
          "text": [
            "Valor negativo para x^TS1x: [[-0.15]]\n",
            "Valor negativo para x^TS2x: [[-1.81]]\n"
          ],
          "name": "stdout"
        }
      ]
    },
    {
      "cell_type": "markdown",
      "metadata": {
        "id": "5g1KXqkI4p-I"
      },
      "source": [
        "# <font color=\"blue\">Problema 2</font>\n",
        "---\n",
        "\n",
        "Mostre que $ \\|v\\|_2 \\leq \\sqrt{n} \\|v\\|_{\\infty} $ sempre. Prove também que $ \\|v\\|_1 \\leq \\sqrt{n} \\|v\\|_2 $, escolhendo um vetor $w$ adequado e aplicando a desigualdade de Cauchy-Schwarz."
      ]
    },
    {
      "cell_type": "markdown",
      "metadata": {
        "id": "oajKXLhO2kU5"
      },
      "source": [
        "**Para a primeira proposição,** podemos elevar ambos os lados ao quadrado obtendo:\r\n",
        "\r\n",
        "$( \\| v \\|_2 )^2 \\leq ( \\sqrt{ n } \\| v \\|_{\\infty} )^2$\r\n",
        "\r\n",
        "A norma-2, euclidiana, é dada por: $ \\sqrt{ v_1^2 + ... +v_n^2 } $ que, ao elevarmos ao quadrado, fica: $v_1^2 + ... +v_n^2$\r\n",
        "\r\n",
        "Agora, elevaremos o lado direito da nossa inequação ao quadrado, obtendo: $n ( \\| v \\|_{\\infty} )^2$\r\n",
        "\r\n",
        "Sabemos que $ \\| v \\|_{\\infty} = \\max_{i \\in \\{1,...,n\\} } |v_i|$ e, portanto, o lado direito fica: $n ( |v_i| )^2$.\r\n",
        "\r\n",
        "Fica fácil perceber que o maior valor possível para $ v_1^2 + ... +v_n^2 $ será para o máximo e, portanto, podemos afirmar que \r\n",
        "\r\n",
        "$n |v_n|^2 $ será sempre menor ou igual a $n ( |v_n| )^2$ como queríamos demonstrar.\r\n",
        "\r\n",
        "**Para a segunda proposição,** podemos aplicar raciocínio semelhante, elevando os dois lados ao quadrado:\r\n",
        "\r\n",
        "Ficamos com $ ( \\| v \\|_1 )^2 = ( \\sqrt{ n }  \\| v \\|_2 )^2 \\implies ( \\| v \\|_1 )^2 = n ( \\| v \\|_2 )^2 $\r\n",
        "\r\n",
        "Assim, teremos: $ (|v_1|)^2 + ... + (|v_n|)^2 = n ( \\| v \\|_2 )^2 $ como queríamos demonstrar\r\n",
        "\r\n",
        "---\r\n",
        "Destacamos abaixo a base do que utilizamos no exercício para fins de aprendizado:\r\n",
        "\r\n",
        "As normas canônicas definidas nestes espaços são as chamadas normas ${\\displaystyle \\ell ^{p}}\\ell ^{p}$:\r\n",
        "\r\n",
        "${\\displaystyle \\|x\\|_{p}={\\Big (}\\sum _{i=1}^{n}|x_{i}|^{p}{\\Big )}^{\\frac {1}{p}}~~,1\\leqslant p<\\infty }$\r\n",
        "\r\n",
        "${\\displaystyle \\|x\\|_{\\infty }=\\max _{i\\in \\{1,\\ldots ,n\\}}|x_{i}|}{\\displaystyle \\|x\\|_{\\infty }=\\max _{i\\in \\{1,\\ldots ,n\\}}|x_{i}|}$\r\n",
        "\r\n",
        "O caso particular em que ${\\displaystyle p=2}$ corresponde à norma euclidiana:\r\n",
        "\r\n",
        "${\\displaystyle \\|x\\|_{2}={\\Big (}\\sum _{i=1}^{n}|x_{i}|^{2}{\\Big )}^{\\frac {1}{2}}}$\r\n",
        "\r\n",
        "Para a norma infinita:\r\n",
        "\r\n",
        "${\\displaystyle \\left\\|\\mathbf {x} \\right\\|_{\\infty }:=\\max _{i}\\left|x_{i}\\right|}$\r\n",
        "\r\n",
        "\r\n",
        "\r\n"
      ]
    },
    {
      "cell_type": "markdown",
      "metadata": {
        "id": "8W8sC9K4h1or"
      },
      "source": [
        "# <font color=\"blue\">Problema 3</font>\r\n",
        "---\r\n",
        "\r\n",
        "Considere o uso do SVD truncado de posto k para compressão de imagens em escala de cinza (0 a 255) de tamanho 1024 x 768.\r\n",
        "\r\n",
        "(a) No caso de uma única imagem decomposta usando SVD, quantos bytes precisam ser armazenados para reconstruir a imagem? Qual o valor máximo de k para o qual a compressão vale a pena?\r\n",
        "\r\n",
        "(b) Agora suponha que queiramos usar um único SVD para comprimir várias imagens. Para isso, iremos representar as imagens como vetores de tamanho 786432 (= 1024×768). Quantos bytes serão necessários para\r\n",
        "armazenar 10 imagens? E quanto a 1000 imagens?"
      ]
    },
    {
      "cell_type": "markdown",
      "metadata": {
        "id": "wo2UjiSYD8Ac"
      },
      "source": [
        "### <font color=\"green\">**Resposta letra a:**</font>\r\n",
        "\r\n",
        "Para reconstruir, precisamos somente da ordem da matriz sigma em bytes. No caso, 768 bytes. Em torno de 80-90% da \"energia\", que nos daria algo em torno de $ 0.85 \\times 768 = 652 $"
      ]
    },
    {
      "cell_type": "markdown",
      "metadata": {
        "id": "cJ5HD8LRDP0S"
      },
      "source": [
        "### <font color=\"green\">**Resposta letra b:**</font>\r\n",
        "\r\n",
        "Precisaremos somente de 768 bytes para a matriz sigma e 10 bytes adicionais, um para cada k das 10 imagens ou 1000 bytes adicionais no caso de 1000 imagens.\r\n",
        "\r\n"
      ]
    },
    {
      "cell_type": "markdown",
      "metadata": {
        "id": "Ly0PhbmSCnUk"
      },
      "source": [
        "# <font color=\"blue\">Problema 4</font>\r\n",
        "---\r\n",
        "\r\n",
        "Seja Q uma matriz ortogonal. Mostre que: \r\n",
        "\r\n",
        "(a) os valores singulares de $Q$ são todos iguais a $1$, e que\r\n",
        "\r\n",
        "(b) $Q = UΣV^T$ com $U = Q$, $Σ = I$ e $V >= I$ é um SVD válido."
      ]
    },
    {
      "cell_type": "markdown",
      "metadata": {
        "id": "GUQb6TTPzJBe"
      },
      "source": [
        "Matriz Ortogonal: Inversa = Transposta"
      ]
    },
    {
      "cell_type": "markdown",
      "metadata": {
        "id": "wkHnThp6xbmE"
      },
      "source": [
        "### <font color=\"green\">**Resposta letra a:**</font>\r\n",
        "\r\n",
        "Sendo assim, os valores singulares de $Q$ que encontramos na decomposição SVD, precisam ser iguais a 1, ou seja, a matriz sigma deve ser a matriz identidade, pois se $ Q =  UΣV^T $ e para $Q$ ser ortogonal, teremos $ Q = VV^T\\Sigma $, onde $ VV^T = I $. Repare que isso obrigará a matriz $ \\Sigma $ a ser igual à identidade."
      ]
    },
    {
      "cell_type": "markdown",
      "metadata": {
        "id": "6uiyXtVTzPAF"
      },
      "source": [
        "### <font color=\"green\">**Resposta letra b:**</font>\r\n",
        "\r\n",
        "Neste caso, se $ \\Sigma $ corresponde à matriz identidade, se fizermos $ U = Q $, teremos uma possibilidade para o SVD ser válido: $ V = I $, ou seja $ Q = QII = Q $ que é trivial."
      ]
    },
    {
      "cell_type": "markdown",
      "metadata": {
        "id": "N6NrexVbzaLd"
      },
      "source": [
        "# <font color=\"blue\">Problema 5</font>\r\n",
        "---\r\n",
        "\r\n",
        "Sem fazer contas (i.e., sem fazer multiplicação de matrizes ou calcular polinômios característicos), encontre os σ's, u's e v's da matriz\r\n",
        "\r\n",
        "$$\r\n",
        "A = \r\n",
        "\\begin{bmatrix}\r\n",
        "0 & 2 & 0 \\\\ \r\n",
        "0 & 0 & 3 \\\\ \r\n",
        "0 & 0 & 0 \\\\ \r\n",
        "\\end{bmatrix} = UΣV^T\r\n",
        "$$ \r\n",
        "\r\n",
        "Dica: as matrizes ortogonais U e V são matrizes de permutação"
      ]
    },
    {
      "cell_type": "markdown",
      "metadata": {
        "id": "FjJsKPx-0YDY"
      },
      "source": [
        "### <font color=\"green\">**Resposta:**</font>\r\n",
        "\r\n",
        "A matriz de permutação de $1's$ e $0's$ permite que façamos a escolha (matrizes com $1's$ em colunas em que o restante dos valores é $0$ permitem que colunas sejam selecionadas na matriz original, no caso, A). Assim, basta que selecionemos para cada coluna o valor não nulo e o ordenemos do maior para o menor, ficando com $ \\sigma = [ 3, 2, 0] $, fazendo nossa U ser o marcador da posição dos termos:\r\n",
        "\r\n",
        "$$\r\n",
        "U = \r\n",
        "\\begin{bmatrix}\r\n",
        "0 & 1 & 0 \\\\ \r\n",
        "1 & 0 & 0 \\\\ \r\n",
        "0 & 0 & 1 \\\\ \r\n",
        "\\end{bmatrix}\r\n",
        "$$\r\n",
        "\r\n",
        "E V transposta deverá ser a ordenação desses valores (lidos de baixo para cima):\r\n",
        "\r\n",
        "$$\r\n",
        "V^T = \r\n",
        "\\begin{bmatrix}\r\n",
        "0 & 0 & 1 \\\\ \r\n",
        "0 & 1 & 0 \\\\ \r\n",
        "1 & 0 & 0 \\\\ \r\n",
        "\\end{bmatrix}\r\n",
        "$$\r\n",
        "\r\n"
      ]
    },
    {
      "cell_type": "code",
      "metadata": {
        "colab": {
          "base_uri": "https://localhost:8080/"
        },
        "id": "w81w_2xc77GQ",
        "outputId": "d16f9a0c-8f4f-4729-aff7-772ef2ea7080"
      },
      "source": [
        "# Verificando nosso raciocínio (não considerar como resposta pois o exercício pede para não calcular)\r\n",
        "\r\n",
        "A = np.array( [ [0, 2, 0], [0, 0, 3], [0, 0, 0] ] )\r\n",
        "U, sigma, Vt = np.linalg.svd( A )\r\n",
        "print( U )\r\n",
        "print( sigma )\r\n",
        "print( Vt )"
      ],
      "execution_count": 7,
      "outputs": [
        {
          "output_type": "stream",
          "text": [
            "[[0. 1. 0.]\n",
            " [1. 0. 0.]\n",
            " [0. 0. 1.]]\n",
            "[3. 2. 0.]\n",
            "[[0. 0. 1.]\n",
            " [0. 1. 0.]\n",
            " [1. 0. 0.]]\n"
          ],
          "name": "stdout"
        }
      ]
    }
  ]
}