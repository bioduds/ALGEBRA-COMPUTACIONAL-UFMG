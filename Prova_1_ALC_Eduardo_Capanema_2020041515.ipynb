{
  "nbformat": 4,
  "nbformat_minor": 0,
  "metadata": {
    "colab": {
      "name": "Prova 1 ALC Eduardo Capanema 2020041515.ipynb",
      "provenance": [],
      "collapsed_sections": [],
      "toc_visible": true,
      "authorship_tag": "ABX9TyNiwBWaE9j6FxZBtDyp1Sap",
      "include_colab_link": true
    },
    "kernelspec": {
      "name": "python3",
      "display_name": "Python 3"
    }
  },
  "cells": [
    {
      "cell_type": "markdown",
      "metadata": {
        "id": "view-in-github",
        "colab_type": "text"
      },
      "source": [
        "<a href=\"https://colab.research.google.com/github/bioduds/ALGEBRA-COMPUTACIONAL-UFMG/blob/main/Prova_1_ALC_Eduardo_Capanema_2020041515.ipynb\" target=\"_parent\"><img src=\"https://colab.research.google.com/assets/colab-badge.svg\" alt=\"Open In Colab\"/></a>"
      ]
    },
    {
      "cell_type": "code",
      "metadata": {
        "id": "_sCEk1urXbOB"
      },
      "source": [
        ""
      ],
      "execution_count": null,
      "outputs": []
    },
    {
      "cell_type": "markdown",
      "metadata": {
        "id": "zRsNJ-VgXgvB"
      },
      "source": [
        "# Prova 1 - Eduardo Capanema (2020041515)"
      ]
    },
    {
      "cell_type": "code",
      "metadata": {
        "id": "vfcTmyOkXudp"
      },
      "source": [
        "import numpy as np"
      ],
      "execution_count": 1,
      "outputs": []
    },
    {
      "cell_type": "markdown",
      "metadata": {
        "id": "mVdd5cLtrLfO"
      },
      "source": [
        "# Questão 2\r\n",
        "\r\n",
        "$C = \\begin{bmatrix}  0.00 & -0.94 & -0.33\\\\  0.11 & -0.33 & 0.94\\\\  -0.99 & -0.04 & 0.10\\\\\\end{bmatrix} \\begin{bmatrix}  11.60 & 0.00 & 0.00\\\\  0.00 & 4.90 & 0.00\\\\  0.00 & 0.00 & 0.06\\\\\\end{bmatrix}\\begin{bmatrix}  0.33 & -0.51 & 0.79\\\\  0.75 & -0.37 & -0.55\\\\  -0.58 & -0.77 & -0.26\\\\\\end{bmatrix} $\r\n"
      ]
    },
    {
      "cell_type": "code",
      "metadata": {
        "colab": {
          "base_uri": "https://localhost:8080/",
          "height": 0
        },
        "id": "gKabuvJqrp9W",
        "outputId": "6f210fd1-3a01-45a3-c122-57c9818d9a73"
      },
      "source": [
        "U = np.array( [ [0, -0.94, -0.33], [0.11, -0.33, 0.94], [-0.99, -0.04, 0.10] ] )\r\n",
        "sigma = np.array( [ [ 11.6, 0, 0 ], [0, 4.9, 0], [0, 0, 0.06] ] )\r\n",
        "Vt = np.array( [ [ 0.33, -0.51, 0.79 ], [0.75, -0.37, -0.55], [-0.58, -0.77, -0.26] ] )\r\n",
        "sigma2 = np.array( [ [ 11.6, 0, 0 ], [0, 4.9, 0], [0, 0, 0.0] ] )\r\n",
        "\r\n",
        "\r\n",
        "C = U @ sigma @ Vt.T\r\n",
        "C\r\n",
        "\r\n",
        "U1 = np.array( [[1],[1],[1]] )\r\n",
        "N1 = np.linalg.norm( ( C @ U1 ) )\r\n",
        "print( N1 )\r\n",
        "\r\n",
        "C2 = U @ sigma2 @ Vt.T\r\n",
        "print( C2 )\r\n",
        "\r\n"
      ],
      "execution_count": 65,
      "outputs": [
        {
          "output_type": "stream",
          "text": [
            "9.901996523535038\n",
            "[[ 2.34906  1.70422  3.54662]\n",
            " [ 1.24575  1.55529  0.50501]\n",
            " [-3.68976 -8.54048  6.81164]]\n"
          ],
          "name": "stdout"
        }
      ]
    },
    {
      "cell_type": "markdown",
      "metadata": {
        "id": "KGZfiVyNeUJR"
      },
      "source": [
        "# Questão 3\r\n",
        "\r\n",
        "Como c representa as colunas linearmente independentes, e a terceira coluna é C.L (primeira menos a segunda), nosso R resultará da simples reconstrução das colunas (vide Decomposição Coluna/Linha, i.e. CR)\r\n",
        "\r\n"
      ]
    },
    {
      "cell_type": "markdown",
      "metadata": {
        "id": "NSqDokjDjp8C"
      },
      "source": [
        "# Questão 4\r\n",
        "\r\n",
        "$A = \\begin{bmatrix} 7 & 2 & -7 \\\\ 6 & 9 & 3 \\\\ 1 & -7 & -9 \\end{bmatrix}$\r\n",
        "\r\n",
        "[1, 0], [0, 1], [1,1], [-1, 1]\r\n",
        "\r\n",
        "\r\n"
      ]
    },
    {
      "cell_type": "code",
      "metadata": {
        "colab": {
          "base_uri": "https://localhost:8080/",
          "height": 0
        },
        "id": "u89vzwcxjsuJ",
        "outputId": "de7f5449-a697-4bbd-875d-8309b2555c0d"
      },
      "source": [
        "A = np.array( [ [7, 2, -7], [6, 9, 3], [1, -7, -9] ] )\r\n",
        "U = np.array( [1, 1, 1] ) # encontrei por tentativa e erro \r\n",
        "\r\n",
        "Ninf = np.linalg.norm( A, np.inf )\r\n",
        "print( Ninf )\r\n",
        "\r\n",
        "NU = np.linalg.norm( ( A @ U ), np.inf )\r\n",
        "NU\r\n"
      ],
      "execution_count": 46,
      "outputs": [
        {
          "output_type": "stream",
          "text": [
            "18.0\n"
          ],
          "name": "stdout"
        },
        {
          "output_type": "execute_result",
          "data": {
            "text/plain": [
              "18.0"
            ]
          },
          "metadata": {
            "tags": []
          },
          "execution_count": 46
        }
      ]
    },
    {
      "cell_type": "markdown",
      "metadata": {
        "id": "uR7lXsKxXnhJ"
      },
      "source": [
        "# Questão 6\r\n",
        "\r\n",
        "Vamos obter a matriz transposta $ A^T = B $ e dividir os elementos pela norma"
      ]
    },
    {
      "cell_type": "code",
      "metadata": {
        "colab": {
          "base_uri": "https://localhost:8080/",
          "height": 0
        },
        "id": "Nv6Nfo9RXyNJ",
        "outputId": "02b73577-d9c8-4ddb-978c-9fe241a171ac"
      },
      "source": [
        "A = np.array( [ [ -1.51, 0.93, -1.15 ], [ -1.29, -1.49, 1.15 ], [ -0.22, 2.43, 1.15 ] ] )\r\n",
        "B = A.T\r\n",
        "n1 = np.linalg.norm( B[0] )\r\n",
        "n2 = np.linalg.norm( B[1] )\r\n",
        "n3 = np.linalg.norm( B[2] )\r\n",
        "print( n1, n2, n3 )\r\n",
        "\r\n",
        "a11 = -1.51/n1; a12 = 0.93/n2; a13 = -1.15/n3; \r\n",
        "a21 = -1.29/n1; a22 = -1.49/n2; a23 = 1.15/n3; \r\n",
        "a31 = -0.22/n1; a32 = 2.43/n2; a33 = 1.15/n3; \r\n",
        "\r\n",
        "print( a11, a12, a13 )\r\n",
        "print( a21, a22, a23 )\r\n",
        "print( a31, a32, a33 )\r\n"
      ],
      "execution_count": 34,
      "outputs": [
        {
          "output_type": "stream",
          "text": [
            "1.9981491435826306 2.998316194132967 1.9918584287042087\n",
            "-0.7556993454916024 0.3101740909847339 -0.5773502691896257\n",
            "-0.645597454095475 -0.4969455866314554 0.5773502691896257\n",
            "-0.11010189139612751 0.8104548828955951 0.5773502691896257\n"
          ],
          "name": "stdout"
        }
      ]
    },
    {
      "cell_type": "markdown",
      "metadata": {
        "id": "oJvfY_78gV5j"
      },
      "source": [
        "# Questão 7\r\n",
        "\r\n",
        "Utilizaremos este conhecimento (que obtivemos na lista 3 de exercícios ao fazê-la):\r\n",
        "\r\n",
        "**Testes para A p.d.:** Os seguintes testes são condições necessárias e suficientes equivalentes para que uma matriz $A = A^T$\r\n",
        "seja positiva definida\r\n",
        "\r\n",
        "1. $x^TAx > 0, ∀x \\neq 0$ equivalente a $x^TS_1x<0$, para $S_1$\r\n",
        "2. <font color=\"blue\"> Todos os autovalores de $A$ são positivos.</font>\r\n",
        "3. Todas as matrizes líderes possuem determinantes positivos.\r\n",
        "4. Todos os pivôs são positivos (e não é preciso, teoricamente, fazer trocas de linhas na eliminação gaussiana em A).\r\n",
        "5. $∃R$ com colunas L.I. tal que $A = R^TR$\r\n",
        "\r\n",
        "Fonte: http://www.nacad.ufrj.br/~amit/alglin/aula8 \r\n",
        "\r\n",
        "7.1. \r\n",
        "\r\n",
        "7.2. Todos os pivôs são positivos (e não é preciso, teoricamente, fazer trocas de linhas na eliminação gaussiana em A). \r\n",
        "\r\n",
        "\r\n"
      ]
    },
    {
      "cell_type": "code",
      "metadata": {
        "colab": {
          "base_uri": "https://localhost:8080/",
          "height": 0
        },
        "id": "cqfBsWHen3tf",
        "outputId": "3f1442d1-c3fe-4a10-872d-6dd195ae860d"
      },
      "source": [
        "C = np.array( [ [1, 0, 0], [1, 1, 1] ] )\r\n",
        "C.T\r\n",
        "\r\n",
        "E = C @ C.T\r\n",
        "print( np.linalg.eigvals( E ) )\r\n",
        "\r\n",
        "F = C.T @ C\r\n",
        "print( np.linalg.eigvals( F ) )\r\n"
      ],
      "execution_count": 60,
      "outputs": [
        {
          "output_type": "stream",
          "text": [
            "[0.58578644 3.41421356]\n",
            "[ 3.41421356e+00  5.85786438e-01 -1.80567699e-33]\n"
          ],
          "name": "stdout"
        }
      ]
    }
  ]
}