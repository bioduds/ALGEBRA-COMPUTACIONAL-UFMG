{
  "nbformat": 4,
  "nbformat_minor": 0,
  "metadata": {
    "colab": {
      "name": "EP3.ipynb",
      "provenance": [],
      "collapsed_sections": [],
      "toc_visible": true,
      "include_colab_link": true
    },
    "kernelspec": {
      "display_name": "Python 3",
      "language": "python",
      "name": "python3"
    },
    "language_info": {
      "codemirror_mode": {
        "name": "ipython",
        "version": 3
      },
      "file_extension": ".py",
      "mimetype": "text/x-python",
      "name": "python",
      "nbconvert_exporter": "python",
      "pygments_lexer": "ipython3",
      "version": "3.6.5"
    }
  },
  "cells": [
    {
      "cell_type": "markdown",
      "metadata": {
        "id": "view-in-github",
        "colab_type": "text"
      },
      "source": [
        "<a href=\"https://colab.research.google.com/github/bioduds/ALGEBRA-COMPUTACIONAL-UFMG/blob/main/EP3.ipynb\" target=\"_parent\"><img src=\"https://colab.research.google.com/assets/colab-badge.svg\" alt=\"Open In Colab\"/></a>"
      ]
    },
    {
      "cell_type": "markdown",
      "metadata": {
        "id": "_JGCuF-Sz0ei"
      },
      "source": [
        "# Exercício de Programação 3: Compressão de imagens e \"Eigenfaces\"\n",
        "\n",
        "<font color=\"red\">**Prazo de submissão: 23:55 do dia 08/02/2021** </font>\n",
        "\n",
        "2020.2 Álgebra Linear Computacional - DCC - UFMG\n",
        "\n",
        "Erickson e Fabricio\n",
        "\n",
        "Instruções:\n",
        "* Antes de submeter suas soluções, certifique-se de que tudo roda como esperado. Primeiro, **reinicie o kernel** no menu, selecione Kernel$\\rightarrow$Restart e então execute **todas as células** (no menu, Cell$\\rightarrow$Run All)\n",
        "* Apenas o arquivo .ipynb deve ser submetido. Ele não deve ser compactado.\n",
        "* Não deixe de preencher seu nome e número de matrícula na célula a seguir"
      ]
    },
    {
      "cell_type": "markdown",
      "metadata": {
        "id": "wW5rlR-gz0ep"
      },
      "source": [
        "**Nome do aluno:** Eduardo Capanema\n",
        "\n",
        "**Matricula:** 2020041515"
      ]
    },
    {
      "cell_type": "code",
      "metadata": {
        "id": "hFsX8nO4r5aH"
      },
      "source": [
        ""
      ],
      "execution_count": null,
      "outputs": []
    },
    {
      "cell_type": "markdown",
      "metadata": {
        "id": "SmTna3ILz0eq"
      },
      "source": [
        "## Introdução\n",
        "\n",
        "Esse EP será dividido em 2 partes:\n",
        "\n",
        "1. Compressão de uma imagem. Essa parte é bem próxima do que foi visto na aula \"Eckart-Young e aproximações de posto baixo\"\n",
        "1. Encontrar as Eigenfaces de um dataset de rostos.\n",
        "\n",
        "Para ambas as partes, iremos usar a decomposição em valores singulares (SVD).\n",
        "\n",
        "Na primeira parte consiramos que a imagem inteira é constituída de valores que possuem alguma relação entre si, mais especificamente, **colunas e linhas** que possuem relação entre si. Isso porque uma imagem pode ser vista como uma matriz, em que cada elemento dessa matriz contém a intensidade do pixel naquela posição. Caso a imagem seja colorida, então cada posição possui na verdade 3 valores, que é o código RGB da cor daquele pixel, porém, para simplificar essa atividade, vamos considerar uma imagem em escala de cinza (preto-e-branco). Nesse caso, o valor de cada elemento na matriz representa a intensidade de cinza daquele pixel, em que 255 é branco e 0 é preto.\n",
        "\n",
        "Na segunda parte, vamos considerar que os dados são um dataset com **várias** imagens de rostos do dataset [Labeled Faces in the Wild](http://vis-www.cs.umass.edu/lfw/). Nesse caso, a nossa matriz é formada por $m$ linhas e $n$ colunas, em que cada linha possui uma imagem de uma face, e cada elemento dessa linha representa o valor de um pixel da imagem. Portanto, uma coluna dessa matriz representa o valor de cinza de todas as imagens em uma mesma posição (mesmo pixel). Como rostos possuem características locais que estão presentes nas imagens de rostos em geral (todo o cabelo é da mesma cor, todo o rosto tem o tom de pele similar...) então o objetivo de usar o SVD é encontrar essas características entre os pixels semânticamente relacionados."
      ]
    },
    {
      "cell_type": "markdown",
      "metadata": {
        "id": "uoyonGkc0Rg-"
      },
      "source": [
        "## Parte 0 - Obtendo os dados"
      ]
    },
    {
      "cell_type": "markdown",
      "metadata": {
        "id": "swdoR18y0k9m"
      },
      "source": [
        "Antes de começar, rode os seguintes comandos para baixar os dados necessários para esse exercícios."
      ]
    },
    {
      "cell_type": "code",
      "metadata": {
        "colab": {
          "base_uri": "https://localhost:8080/"
        },
        "id": "Yx9DqYeu0Pno",
        "outputId": "02787ca0-cedd-4053-c4e7-4947ca36dd51"
      },
      "source": [
        "!wget -q --show-progress https://www.dropbox.com/s/xl0cimrnpckslku/img-cachorrinhos.jpeg\n",
        "!wget -q --show-progress https://www.dropbox.com/s/ds6gdinu12pcls4/dados_img.npy"
      ],
      "execution_count": null,
      "outputs": [
        {
          "output_type": "stream",
          "text": [
            "img-cachorrinhos.jp 100%[===================>]   2.30M  12.4MB/s    in 0.2s    \n",
            "dados_img.npy       100%[===================>]  51.69M  49.6MB/s    in 1.0s    \n"
          ],
          "name": "stdout"
        }
      ]
    },
    {
      "cell_type": "markdown",
      "metadata": {
        "id": "Le_K6lRaz0er"
      },
      "source": [
        "## Parte 1 - Comprimindo uma imagem"
      ]
    },
    {
      "cell_type": "markdown",
      "metadata": {
        "id": "FFagc2R1z0er"
      },
      "source": [
        "O primeiro passo é carregar a imagem que vamos comprimir:"
      ]
    },
    {
      "cell_type": "code",
      "metadata": {
        "id": "dpB2Y_DEz0er"
      },
      "source": [
        "## NÃO EDITAR ESSA CÉLULA\n",
        "import numpy as np\n",
        "import matplotlib.pyplot as plt"
      ],
      "execution_count": null,
      "outputs": []
    },
    {
      "cell_type": "code",
      "metadata": {
        "colab": {
          "base_uri": "https://localhost:8080/"
        },
        "id": "5wgDVpAaz0es",
        "outputId": "c5a1925b-77e4-44af-d9d1-ce44ddff08b0"
      },
      "source": [
        "## NÃO EDITAR ESSA CÉLULA\n",
        "A = plt.imread( 'img-cachorrinhos.jpeg' ).mean( axis=2 )\n",
        "A.shape"
      ],
      "execution_count": null,
      "outputs": [
        {
          "output_type": "execute_result",
          "data": {
            "text/plain": [
              "(3888, 5184)"
            ]
          },
          "metadata": {
            "tags": []
          },
          "execution_count": 6
        }
      ]
    },
    {
      "cell_type": "markdown",
      "metadata": {
        "id": "vNxegiE-z0et"
      },
      "source": [
        "Como podemos ver, a imagem tem uma resolução alta. O nosso objetivo é representar essa imagem sem perder muita informação usando menos bytes do que a quantidade de pixels. Primeiramente, vamos ver como é essa imagem."
      ]
    },
    {
      "cell_type": "code",
      "metadata": {
        "colab": {
          "base_uri": "https://localhost:8080/",
          "height": 264
        },
        "id": "DR6-SEEAz0et",
        "outputId": "a5d30ebb-b3cf-47a1-9f5b-9e16375c3d8a"
      },
      "source": [
        "## NÃO EDITAR ESSA CÉLULA\n",
        "def mostra_img_unica( img, titulo='Imagem' ) :\n",
        "    plt.imshow( img, cmap='gray' )\n",
        "    plt.title( titulo )\n",
        "    plt.axis( 'off' )\n",
        "    plt.show();\n",
        "\n",
        "mostra_img_unica( A, titulo='Imagem que iremos comprimir' )"
      ],
      "execution_count": null,
      "outputs": [
        {
          "output_type": "display_data",
          "data": {
            "image/png": "[encoded data removed]",
            "text/plain": [
              "<Figure size 432x288 with 1 Axes>"
            ]
          },
          "metadata": {
            "tags": [],
            "needs_background": "light"
          }
        }
      ]
    },
    {
      "cell_type": "markdown",
      "metadata": {
        "id": "o14wH2207tvr"
      },
      "source": [
        "Como descrito acima, uma imagem pode ser vista como uma matriz, em que a posição $i,j$ na matriz representa a intensidade do pixel da imagem naquela posição. Em imagens reais (de pessoas, paisagens, animais, etc.) geralmente existe muita redundância entre os pixels, porque pixels próximos tendem a ter valores próximos. Além disso, em uma determinada região da imagem pode ser que haja pouca variação dos valores dos pixels, principalmente em regiões referentes ao *background* da imagem. Portanto, nessa matriz, ao encontrar colunas ou linhas que podem ser descritas em função de outras, podemos potencialmente encontrar uma forma de comprimir a imagem. Para isso, vamos usar o SVD.\n",
        "\n",
        "Referência no momento da [aula](https://youtu.be/4H1a6ZMkR98?t=1309)."
      ]
    },
    {
      "cell_type": "markdown",
      "metadata": {
        "id": "POmRnXOoz0et"
      },
      "source": [
        "**1.1** Faça a decomposição SVD da matriz $A$ da imagem acima. Isso pode ser feito usando a função [`np.linalg.svd`](https://numpy.org/doc/stable/reference/generated/numpy.linalg.svd.html). Essa função faz a operação do SVD $A = U \\Sigma V^\\top$ e retorna:\n",
        "\n",
        "- A matriz resultado $U$.\n",
        "- Os valores singulares $\\sigma_i$ em um vetor, ordenado pela sua magnitude em ordem descendente.\n",
        "- A matriz resultado $V^\\top$ (ele já retorna o transposto, não é necessário transpor nada depois da operação).\n",
        "\n",
        "Guarde os resultados da decomposição SVD nas variáveis **U** (*1.1.1*), **Sigma_vet** (*1.1.2*) e **Vt** (*1.1.3*)."
      ]
    },
    {
      "cell_type": "code",
      "metadata": {
        "id": "h2sfXXtHz0eu"
      },
      "source": [
        "## Insira seu código aqui\r\n",
        "U, Sigma_vet, Vt = np.linalg.svd( A )"
      ],
      "execution_count": null,
      "outputs": []
    },
    {
      "cell_type": "code",
      "metadata": {
        "colab": {
          "base_uri": "https://localhost:8080/"
        },
        "id": "RhqmiKb6sHWY",
        "outputId": "dd2ea1b7-1aa0-4ed0-dc34-d84f7de904cf"
      },
      "source": [
        "Sigma_vet\r\n"
      ],
      "execution_count": null,
      "outputs": [
        {
          "output_type": "execute_result",
          "data": {
            "text/plain": [
              "array([4.86360677e+05, 5.16491198e+04, 3.41812236e+04, ...,\n",
              "       4.30864105e+00, 4.26087671e+00, 4.18985612e+00])"
            ]
          },
          "metadata": {
            "tags": []
          },
          "execution_count": 12
        }
      ]
    },
    {
      "cell_type": "markdown",
      "metadata": {
        "id": "l6Ky3LUOz0eu"
      },
      "source": [
        "**1.2** A função `np.linalg.svd` retorna os valores singulares $\\sigma_i$ como um vetor. Porém, como em aula estamos usando os valores singulares em uma matriz diagonal $\\Sigma$, então vamos transformar esse vetor em uma matriz diagonal. Para isso, podemos usar a função [`np.diag`](https://numpy.org/doc/stable/reference/generated/numpy.diag.html). Salve o resultado em uma variável chamada **Sigma**.\n"
      ]
    },
    {
      "cell_type": "code",
      "metadata": {
        "id": "D0N9cOEEz0eu"
      },
      "source": [
        "## Insira seu código aqui\r\n",
        "Sigma = np.diag( Sigma_vet )"
      ],
      "execution_count": null,
      "outputs": []
    },
    {
      "cell_type": "code",
      "metadata": {
        "colab": {
          "base_uri": "https://localhost:8080/"
        },
        "id": "RFfNaSIps6-Q",
        "outputId": "b2ae6eb3-75e6-4f13-bb5a-e336971ba641"
      },
      "source": [
        "Sigma\r\n",
        "#Sigma.shape"
      ],
      "execution_count": null,
      "outputs": [
        {
          "output_type": "execute_result",
          "data": {
            "text/plain": [
              "array([[4.86360677e+05, 0.00000000e+00, 0.00000000e+00, ...,\n",
              "        0.00000000e+00, 0.00000000e+00, 0.00000000e+00],\n",
              "       [0.00000000e+00, 5.16491198e+04, 0.00000000e+00, ...,\n",
              "        0.00000000e+00, 0.00000000e+00, 0.00000000e+00],\n",
              "       [0.00000000e+00, 0.00000000e+00, 3.41812236e+04, ...,\n",
              "        0.00000000e+00, 0.00000000e+00, 0.00000000e+00],\n",
              "       ...,\n",
              "       [0.00000000e+00, 0.00000000e+00, 0.00000000e+00, ...,\n",
              "        4.30864105e+00, 0.00000000e+00, 0.00000000e+00],\n",
              "       [0.00000000e+00, 0.00000000e+00, 0.00000000e+00, ...,\n",
              "        0.00000000e+00, 4.26087671e+00, 0.00000000e+00],\n",
              "       [0.00000000e+00, 0.00000000e+00, 0.00000000e+00, ...,\n",
              "        0.00000000e+00, 0.00000000e+00, 4.18985612e+00]])"
            ]
          },
          "metadata": {
            "tags": []
          },
          "execution_count": 16
        }
      ]
    },
    {
      "cell_type": "markdown",
      "metadata": {
        "id": "xL0ngglFz0ev"
      },
      "source": [
        "**1.3** Agora que encontramos os valores e vetores singulares, podemos fazer uma reconstrução da imagem original a partir de **U**, **Sigma** e **Vt**. Para isso basta seguir a equação matricial do SVD: $A = U \\Sigma V^\\top$. Porém, podemos alterar a quantidade de vetores singulares (e valores singulares) usados para ter uma reconstrução aproximada da imagem. A quantidade de vetores e valores singulares usados é chamada de *posto* da aproximação. \n",
        "\n",
        "Como podemos guardar bem menos vetores que o *SVD completo*, isso apresenta uma potencial compressão dos dados. Vamos reconstruir a imagem original fazendo uma aproximação de posto 3. Ou seja, vamos usar apenas os 3 primeiros vetores singulares esquerdos, os 3 primeiros valores singulares, e os 3 primeiros vetores singulares direito. \n",
        "\n",
        "Para isso, crie uma função chamada **reconstrucao_aproximada**, que recebe as matrizes $U$, $\\Sigma$ e $V^\\top$, além do valor $k$ que representa o posto da aproximação. Essa função então deve usar apenas os vetores e valores singulares especificados pelo posto para reconstruir a imagem e retorná-la. Após isso, chame a função para fazer a reconstrução de posto 3 citada acima, e guarde o resultado na variável **imgReconst_3**. Depois disso, se quisermos podemos visualizar a imagem aproximada usando a função *mostra_img_unica*.\n",
        "\n",
        "Referência em [aula](https://youtu.be/4H1a6ZMkR98?t=1457)."
      ]
    },
    {
      "cell_type": "code",
      "metadata": {
        "colab": {
          "base_uri": "https://localhost:8080/",
          "height": 263
        },
        "id": "FpVJncytz0ev",
        "outputId": "a1797338-749e-483e-dbe8-9e6cd93a49c5"
      },
      "source": [
        "## Insira seu código aqui\r\n",
        "def reconstrucao_aproximada( U, sigma, Vt, k=3 ) :\r\n",
        "  B = ( U[0:k, 0:k] @ sigma[0:k, 0:k] ) @ Vt[0:k, 0:k]\r\n",
        "  return B\r\n",
        "\r\n",
        "imgReconst_3 = reconstrucao_aproximada( U, Sigma, Vt, 3 )\r\n",
        "\r\n",
        "mostra_img_unica( imgReconst_3, titulo='Imagem que comprimimos' )\r\n"
      ],
      "execution_count": null,
      "outputs": [
        {
          "output_type": "display_data",
          "data": {
            "image/png": "[encoded data removed]",
            "text/plain": [
              "<Figure size 432x288 with 1 Axes>"
            ]
          },
          "metadata": {
            "tags": [],
            "needs_background": "light"
          }
        }
      ]
    },
    {
      "cell_type": "markdown",
      "metadata": {
        "id": "PnSa0_Foz0ev"
      },
      "source": [
        "**1.4** Dependendo do posto da aproximação, teremos uma reconstrução de qualidade melhor ou pior. Uma forma de visualizar o quanto os primeiros valores singulares são importantes é \"plotar\" um gráfico que mostra os valores. Como a magnitude dos valores singulares pode variar muito, se apenas plotarmos os valores diretamente no gráfico pode resultar apenas em um gráfico em formato de \"L\" que realmente não nos diz muito. Por isso, existem duas práticas comuns:\n",
        "\n",
        "1. Calcular o $\\log$ dos valores singulares e plotá-los.\n",
        "1. Calcular o *acumulativo* dos valores singulares e plotá-los com relação a soma total.\n",
        "\n",
        "Para a abordagem 1, podemos usar a função [`np.log`](https://numpy.org/doc/stable/reference/generated/numpy.log.html), e para a abordagem 2 podemos usar as funções [`np.cumsum`](https://numpy.org/doc/stable/reference/generated/numpy.cumsum.html) para calcular o acumulativo de um vetor, e `np.sum` para calcular a soma total (ou usar o ultimo valor do vetor retornado por `np.cumsum`). Note que para esse exercício devemos usar a variável **Sigma_vet**, já que queremos os resultados em um vetor (e não uma matriz). Salve os resultados nas variáveis **log_Sigma** (*1.4.1*) e **cumul_Sigma** (*1.4.2*). Depois disso visualize os gráficos usando a função *mostra_valores_sinigulares*, que está disponível abaixo.\n",
        "\n",
        "Referência em [aula](https://youtu.be/4H1a6ZMkR98?t=1809)."
      ]
    },
    {
      "cell_type": "code",
      "metadata": {
        "id": "sJVQplFvz0ew",
        "colab": {
          "base_uri": "https://localhost:8080/",
          "height": 336
        },
        "outputId": "185c020f-351d-4d4f-eb0d-9e0d4811adb8"
      },
      "source": [
        "## Insira seu código aqui\r\n",
        "log_Sigma = np.log( Sigma_vet )\r\n",
        "cumul_Sigma = np.cumsum( Sigma_vet )\r\n",
        "mostra_valores_singulares( log_Sigma, cumul_Sigma )"
      ],
      "execution_count": null,
      "outputs": [
        {
          "output_type": "display_data",
          "data": {
            "image/png": "[encoded data removed]",
            "text/plain": [
              "<Figure size 1008x360 with 2 Axes>"
            ]
          },
          "metadata": {
            "tags": [],
            "needs_background": "light"
          }
        }
      ]
    },
    {
      "cell_type": "code",
      "metadata": {
        "id": "X4hQJyFLz0ew"
      },
      "source": [
        "## NÃO EDITAR ESSA CÉLULA\n",
        "def mostra_valores_singulares( log_Sigma, cumul_Sigma ) :\n",
        "    fig, ax = plt.subplots( figsize=( 14, 5 ), nrows=1, ncols=2 )\n",
        "    ax[0].plot( log_Sigma )\n",
        "    ax[0].set_title( 'Log dos vals. singulares' )\n",
        "    ax[1].plot( cumul_Sigma )\n",
        "    ax[1].set_title( 'Valor acumulado dos vals. singulares' )\n"
      ],
      "execution_count": null,
      "outputs": []
    },
    {
      "cell_type": "markdown",
      "metadata": {
        "id": "dg0XX37Tz0ew"
      },
      "source": [
        "**1.5** Uma forma de medir a qualidade das imagens aproximadas é através da métrica RMSE, que tem como base as diferências *pixel-a-pixel* entre a imagem reconstruída e a imagem original. Crie uma função **calcula_RMSE** que recebe a imagem original e a imagem aproximada, e calcule o RMSE entre as duas. Para isso, podemos usar a função [`np.linalg.norm`](https://numpy.org/doc/stable/reference/generated/numpy.linalg.norm.html). Depois use essa função para calcular o RMSE para a aproximação que criamos acima **imgReconst_3**, e a imagem original **A**. Salve o resultado em uma variável chamada **rmseReconst_3**.\n",
        "\n",
        "Referência em [aula](https://youtu.be/4H1a6ZMkR98?t=1622)."
      ]
    },
    {
      "cell_type": "code",
      "metadata": {
        "id": "m2DkepAdz0ex"
      },
      "source": [
        "## Insira seu código aqui\n",
        "def calcula_RMSE( img, imgRec ) :\n",
        "  return np.linalg.norm()\n",
        "\n",
        "rmseReconst_3 = calcula_RMSE( A, imgReconst_3 )\n"
      ],
      "execution_count": null,
      "outputs": []
    },
    {
      "cell_type": "markdown",
      "metadata": {
        "id": "IIUIwzuNz0ex"
      },
      "source": [
        "**1.6** Como dito acima, dependendo do posto que usamos para a aproximação a imagem tem uma qualidade melhor ou pior. A aproximação de posto 3 feita acima não possui uma qualidade muito boa, mesmo que seja possível perceber que é a imagem original sendo reconstruída. Vamos então agora fazer aproximações usando postos diferentes para verificar como a qualidade muda com $k$. Para isso faça:\n",
        "\n",
        "1. Uma aproximação de posto 10, e calcule o RMSE. Salve os resultados nas variáveis **imgReconst_10** (*1.6.1*) e **rmseReconst_10** (1.6.2).\n",
        "1. Uma aproximação de posto 100, e calcule o RMSE. Salve os resultados nas variáveis **imgReconst_100** (*1.6.3*) e **rmseReconst_100** (1.6.4).\n",
        "1. Uma aproximação de posto 500, e calcule o RMSE. Salve os resultados nas variáveis **imgReconst_500** (*1.6.5*) e **rmseReconst_500** (1.6.6).\n",
        "\n",
        "Para fazer cada um dos passos acima, basta fazer o mesmo que foi feito para obter **imgReconst_3** e **rmseReconst_3**, apenas variando-se $k$."
      ]
    },
    {
      "cell_type": "code",
      "metadata": {
        "id": "wKG8gvECz0ex"
      },
      "source": [
        "## Insira seu código aqui"
      ],
      "execution_count": null,
      "outputs": []
    },
    {
      "cell_type": "markdown",
      "metadata": {
        "id": "6SVzKmmGHJyg"
      },
      "source": [
        "Depois de obter cada reconstrução podemos visualizá-las:"
      ]
    },
    {
      "cell_type": "code",
      "metadata": {
        "id": "wk4kAeOfz0ex"
      },
      "source": [
        "## NÃO EDITAR ESSA CÉLULA\n",
        "mostra_img_unica( imgReconst_10, 'Reconstrução rank 10 - energia: {:.4f} - RMSE: {:.2f}'.format(cumul_Sigma[10], rmseReconst_10) )\n",
        "mostra_img_unica( imgReconst_100, 'Reconstrução rank 100 - energia: {:.4f} - RMSE: {:.2f}'.format(cumul_Sigma[100], rmseReconst_100) )\n",
        "mostra_img_unica( imgReconst_500, 'Reconstrução rank 500 - energia: {:.4f} - RMSE: {:.2f}'.format(cumul_Sigma[500], rmseReconst_500) )"
      ],
      "execution_count": null,
      "outputs": []
    },
    {
      "cell_type": "markdown",
      "metadata": {
        "id": "DHWec2h3z0ey"
      },
      "source": [
        "**1.7** Agora vamos calcular o quanto de espaço em memória estamos ocupando ao fazer essas aproximações. Ao comparar esse uso com o uso de memória da imagem original, podemos ter uma idéia de o quanto estamos economizando em espaço na memória. Crie uma função **calcula_qtd_elementos** que recebe os arrays **U**, **Sigma_vet** e **Vt** e retorne a soma da quantidade de elementos desses arrays. Uma funcionalidade que pode ser útil é o atributo `.size` dos `np.arrays`.\n",
        "\n",
        "Repare que, para calcular essa quantiade para uma aproximação de posto $k$, usamos as matrizes limitadas aos $k$ vetores que são usadas para aquela aproximação, e apenas os $k$ primeiros valores singulares (similar as limitações de linhas e colunas que a função **reconstrucao_aproximada** faz).\n",
        "\n",
        "Calcule a quantidade de elementos usadas para as aproximações anteriores de posto 10, 100 e 500, e salve os resultados em  **uso_k_10** (*1.7.1*), **uso_k_100** (*1.7.2*), **uso_k_500** (*1.7.3*).\n",
        "\n",
        "Referência na [aula](https://youtu.be/4H1a6ZMkR98?t=2046)."
      ]
    },
    {
      "cell_type": "code",
      "metadata": {
        "id": "0rSWIy3nz0ey"
      },
      "source": [
        "## Insira seu código aqui"
      ],
      "execution_count": null,
      "outputs": []
    },
    {
      "cell_type": "markdown",
      "metadata": {
        "id": "3V-etjLuKahk"
      },
      "source": [
        "Mostrando o uso em porcentagem:"
      ]
    },
    {
      "cell_type": "code",
      "metadata": {
        "id": "wGnJFvYHz0ey",
        "scrolled": true
      },
      "source": [
        "## NÃO EDITAR ESSA CÉLULA\n",
        "uso_total = A.size\n",
        "print( 'uso para k = 10: {:.2f}% do total'.format(uso_k_10 * 100 / uso_total) )\n",
        "print( 'uso para k = 100: {:.2f}% do total'.format(uso_k_100 * 100 / uso_total) )\n",
        "print( 'uso para k = 500: {:.2f}% do total'.format(uso_k_500 * 100 / uso_total) )"
      ],
      "execution_count": null,
      "outputs": []
    },
    {
      "cell_type": "markdown",
      "metadata": {
        "id": "4G7IM_Uoz0ez"
      },
      "source": [
        "**1.8** Mesmo com os gráficos dos valores singulares vistos na questão **1.4**, a escolha de $k$ pode ser um pouco arbitrária. Por isso, vamos adotar o critério de escolher o menor $k$ que preserve 80% da *energia*. Crie uma função chamada **get_limite** que receba a quantidade de energia mínima desejada, além do vetor **cumul_Sigma** com o acumulado dos valores singulares, e retorne o menor $k$ que preserve essa energia.\n",
        "\n",
        "Depois disso, chame a função usando `energia=0.8` para calcular qual o valor de $k$ que atende a esse valor. Salve o resultado na variável **lim_energ**.\n",
        "\n",
        "Referência em [aula](https://youtu.be/4H1a6ZMkR98?t=1918)."
      ]
    },
    {
      "cell_type": "code",
      "metadata": {
        "id": "AHFyU6H_z0e0"
      },
      "source": [
        "## Insira seu código aqui"
      ],
      "execution_count": null,
      "outputs": []
    },
    {
      "cell_type": "markdown",
      "metadata": {
        "id": "o79FJMX0z0e0"
      },
      "source": [
        "## Parte 2 - Eigenfaces"
      ]
    },
    {
      "cell_type": "markdown",
      "metadata": {
        "id": "qV0COHPUz0e0"
      },
      "source": [
        "Como vimos na parte 1, uma imagem pode ser vista como uma matriz em que cada posição na matriz representa a intensidade do pixel na posição correspondente. Porém, outra aplicação muito interessante do SVD em processamento de imagens é a de representar um conjunto de dados inteiro (como um conjunto de imagens) através dos vetores e valores singulares. Nessa segunda parte, vamos trabalhar com dados desse tipo, em que cada linha da matriz por si só é uma imagem inteira. As imagens que vamos usar são de rostos de pessoas, de forma com que as faces estão alinhadas (em todas as imagens os olhos, boca, nariz, etc. estão mais ou menos numa mesma região na imagem).\n",
        "\n",
        "A partir disso, podemos \"esticar\" as matrizes de todas as imagens em um array 1D, que é um vetor. Ao posicionar cada vetor de todas as imagens verticalmente, voltamos a ter uma matriz, em que cada linha representa um vetor de uma imagem, e cada elemento nessa linha é um pixel da imagem. Vamos ver isso lendo os dados e mostrando uma imagem:"
      ]
    },
    {
      "cell_type": "code",
      "metadata": {
        "id": "YGk_ij03z0e0"
      },
      "source": [
        "## NÃO EDITAR ESSA CÉLULA\n",
        "\n",
        "## Função usada para receber o vetor de uma imagem \"esticada\" e \n",
        "## transformá-lo de volta em uma matriz como a imagem real\n",
        "def vetor_para_img(x):\n",
        "    if len(x.shape) == 3:\n",
        "        return x.reshape(-1, 64, 64)\n",
        "    else:\n",
        "        return x.reshape(64, 64)\n",
        "\n",
        "## lendo a matriz\n",
        "B = np.load('dados_img.npy')\n",
        "print('tamanho da matriz:', B.shape)\n",
        "\n",
        "## mostrando uma das imagens a partir do vetor na matriz\n",
        "print('img. de exemplo:')\n",
        "mostra_img_unica( vetor_para_img(B[0, :]) )"
      ],
      "execution_count": null,
      "outputs": []
    },
    {
      "cell_type": "markdown",
      "metadata": {
        "id": "9KPBJUO_z0e1"
      },
      "source": [
        "Como visto acima, essa matriz possui uma dimensionalidade muito maior que a da parte 1. Ela possui 13 mil linhas. Se fizermos a decomposição SVD dessa matriz diretamente e usando o SVD completo, a matriz $U$ teria dimensões muito altas, além de que seria muito custoso.\n",
        "\n",
        "Vamos calcular a quantidades de bytes necessários para guardar a matriz $U$ caso a decomposição SVD fosse aplicada:"
      ]
    },
    {
      "cell_type": "code",
      "metadata": {
        "id": "2JO1PKTfz0e1"
      },
      "source": [
        "## NÃO EDITAR ESSA CÉLULA\n",
        "(B.shape[0] ** 2) * 4"
      ],
      "execution_count": null,
      "outputs": []
    },
    {
      "cell_type": "markdown",
      "metadata": {
        "id": "4r7gPp2gQgDR"
      },
      "source": [
        "Esse valor pode ser muito custoso para se calcular. Porém, como foi dito na [aula](https://youtu.be/VRvYOxozsas?t=1306) sobre SVD, existe uma relação entre os autovalores e os valores singulares da matriz. Vimos que é possível obter os vetores singulares direitos e os valores singulares de uma matriz $B$ ao aplicar a decomposição espectral na matriz resultante de multiplicar a transposta por ela mesma: $B^\\top B$.\n",
        "\n",
        "Esse fato irá nos ajudar porque, mesmo que a matriz $B$ possua 13 mil linhas, ao computar $B^\\top B$, o resultado é uma matriz quadrada que possui dimensões iguais à quantidade de colunas de $B$. Como ela possui bem menos colunas e linhas (4096), então podemos processar essa matriz de forma mais eficiente que a original.\n",
        "\n",
        "Em especial, podemos fazer a decomposição espectral dessa matriz, e usar as relações citadas acima para obter as matrizes do SVD para fazer aproximações de posto baixo."
      ]
    },
    {
      "cell_type": "markdown",
      "metadata": {
        "id": "0jCj2W7Wz0e1"
      },
      "source": [
        "**2.1** O primeiro passo para fazer isso é calcular o \"vetor linha médio\" que essa matriz possui. Para isso, podemos usar a função `.mean()` dos `np.arrays`. Como queremos que a média das linhas seja calculada, então podemos especificar o parâmetro `axis` para evitar que o *numpy* faça a média de toda a matriz. O resultado dessa operação deve ter 4096 elementos. Salve essa média em uma variável **B_media** (*2.1.1*), e depois disso subtraia essa média de cada linha da matriz original **B**, e salve a matriz resultante em uma variável **Bm** (*2.1.2*)."
      ]
    },
    {
      "cell_type": "code",
      "metadata": {
        "id": "dL4UaaU3z0e2"
      },
      "source": [
        "## Insira seu código aqui"
      ],
      "execution_count": null,
      "outputs": []
    },
    {
      "cell_type": "markdown",
      "metadata": {
        "id": "Cg5XaQuOz0e2"
      },
      "source": [
        "Essa \"linha média\" calculada representa os valores médios de todas as linhas da matriz. Como cada linha da matriz é uma imagem de um rosto, então a interpretação semântica dessa média é uma \"face média\", que representa como seria uma face em geral. Podemos visualizar como é essa \"face média\":\n"
      ]
    },
    {
      "cell_type": "code",
      "metadata": {
        "id": "2ZN0eR-Nz0e2"
      },
      "source": [
        "## NÃO EDITAR ESSA CÉLULA\n",
        "mostra_img_unica( vetor_para_img(B_media.reshape(-1)) )"
      ],
      "execution_count": null,
      "outputs": []
    },
    {
      "cell_type": "markdown",
      "metadata": {
        "id": "Iu6DANqnz0e3"
      },
      "source": [
        "**2.2** Agora que removemos a média da matriz, podemos obter a matriz quadrada que vamos usar para o processamento. Crie essa matriz a partir da multiplicação de matrizes da transposta de **Bm** com o próprio **Bm**:\n",
        "\n",
        "$$S = B_m^\\top B_m$$\n",
        "\n",
        "$\\color{red}{\\textbf{Atenção}}$: é importante que a ordem da multiplicação seja feita como acima: da transposta pré-multiplicando a matriz original. Caso a ordem seja trocada, o `python` irá tentar calcular uma matriz de tamanho 13 mil por 13 mil, o que pode demorar muito tempo e até causar o travamento do programa (e talvez do computador sendo usado), além de não dar o resultado correto.\n",
        "\n",
        "Salve a matriz resultado em uma variável chamada **S**.\n",
        "\n",
        "Referência na [aula](https://youtu.be/VRvYOxozsas?t=1306)."
      ]
    },
    {
      "cell_type": "code",
      "metadata": {
        "id": "a2UCnykKz0e3"
      },
      "source": [
        "## Insira seu código aqui"
      ],
      "execution_count": null,
      "outputs": []
    },
    {
      "cell_type": "markdown",
      "metadata": {
        "id": "C6W3dgxiz0e3"
      },
      "source": [
        "**2.3** Agora que temos a matriz $S$ quadrada e de dimensões $4096 \\times 4096$, podemos calcular a sua decomposição espectral. Isso pode ser feito usando a função [`np.linalg.eig`](https://numpy.org/doc/stable/reference/generated/numpy.linalg.eig.html), assim como no **EP2**. Salve os autovalores resultantes em uma variável **w2** (*2.3.1*) e os autovetores numa variável **V2** (*2.3.2*)."
      ]
    },
    {
      "cell_type": "code",
      "metadata": {
        "id": "s-c1BL_Kz0e3"
      },
      "source": [
        "## Insira seu código aqui"
      ],
      "execution_count": null,
      "outputs": []
    },
    {
      "cell_type": "markdown",
      "metadata": {
        "id": "cBkrxOvbjEP8"
      },
      "source": [
        "Como dito acima, os autovetores de $S$ são os vetores singulares direitos de $B_m$, que é uma matriz que representa características das faces das pessoas. Ao calcular os vetores singulares dessa matriz, o que estamos capturando são características dos dados que a matriz representa. No caso desse exercício, são imagens de faces, e portanto a interpretação que os vetores singulares possuem é de serem as características mais *marcantes* das faces. Como esses vetores estão no mesmo espaço dimensional que as linhas de $B_m$, podemos ainda **vizualizar** em imagens o que esses vetores são. Isso é uma característica muito interessante desse tipo de dados, porque de certa forma estamos visualizando um vetor no espaço $\\mathbb{R}^{4096}$:"
      ]
    },
    {
      "cell_type": "code",
      "metadata": {
        "id": "Wwmv_XnIiVhT"
      },
      "source": [
        "## NÃO EDITAR ESSA CÉLULA\n",
        "fig, ax = plt.subplots( figsize=(14, 16), nrows=5, ncols=5 )\n",
        "c = 0\n",
        "for i in range(5):\n",
        "    for j in range(5):\n",
        "        eigenface = vetor_para_img( V2[:, c] )\n",
        "        ax[i, j].imshow(eigenface, cmap='gray')\n",
        "        ax[i, j].set_title('eigenface nº {}'.format(c))\n",
        "        ax[i, j].axis('off')\n",
        "        c += 1\n",
        "\n",
        "plt.show();"
      ],
      "execution_count": null,
      "outputs": []
    },
    {
      "cell_type": "markdown",
      "metadata": {
        "id": "EZkB3Valkmyw"
      },
      "source": [
        "As áreas mais claras nas imagens representam as regiões onde o vetor singular mais corresponde em uma imagem. Podemos ver claramente que cada um representa uma característica diferente das imagens. Essa técnica ficou conhecida como **Eigenfaces**, porque pode ser obtida através de decomposição espectral da matriz (*eigendecomposition*) quando a matriz representa imagens de faces."
      ]
    },
    {
      "cell_type": "markdown",
      "metadata": {
        "id": "kOyh15b8z0e4"
      },
      "source": [
        "**2.4** Agora, para obter os valores singulares de $B_m$ calculamos a raiz dos autovalores de $S$, que estão em **w2**. Para isso, podemos usar a função [`np.sqrt`](https://numpy.org/doc/stable/reference/generated/numpy.sqrt.html). Salve os valores singulares numa variável chamada **valores_sing**.\n",
        "\n",
        "Referência em [aula](https://youtu.be/VRvYOxozsas?t=1879).\n"
      ]
    },
    {
      "cell_type": "code",
      "metadata": {
        "id": "unqrEK6Gz0e4"
      },
      "source": [
        "## Insira seu código aqui"
      ],
      "execution_count": null,
      "outputs": []
    },
    {
      "cell_type": "markdown",
      "metadata": {
        "id": "eGoRcfftz0e5"
      },
      "source": [
        "**2.5** Agora que ja possuímos os valores singulares em um vetor (**valores_sing**), podemos calcular a matriz $\\Sigma$ que possui esses valores na sua diagonal. Além disso, também será útil calcular a sua inversa $\\Sigma^{-1}$, para mais a frente ser possível de calcular os vetores singulares $U$, que ainda não possuímos (por enquanto temos apenas $V$). Salve o valor de $\\Sigma$ em uma variável **Sigma_vals_sing** (2.5.1) e sua inversa em **Sigma_inv** (*2.5.2*). Assim como no exercício **1.2**, a função `np.diag` pode ser útil.\n",
        "\n",
        "Referência em [aula](https://youtu.be/VRvYOxozsas?t=1974)."
      ]
    },
    {
      "cell_type": "code",
      "metadata": {
        "id": "LT8dfACGz0e5"
      },
      "source": [
        "## Insira seu código aqui"
      ],
      "execution_count": null,
      "outputs": []
    },
    {
      "cell_type": "markdown",
      "metadata": {
        "id": "CzAxjqzcz0e5"
      },
      "source": [
        "**2.6** Agora que já possuímos as matrizes $V$ (vetores singulares direitos) e $\\Sigma^{-1}$ (inversa dos valores singulares), além da matriz original $B_m$, podemos calcular os vetores singulares esquerdos $U$. Para isso, podemos usar a relação que foi explicada durante a [aula](https://youtu.be/VRvYOxozsas?t=2031):\n",
        "\n",
        "$$U = B_m V \\Sigma^{-1}$$\n",
        "\n",
        "Porém, não precisamos calcular todos os elementos dessa matriz se quisermos reconstruir apenas algumas imagens. Por exemplo, se quisermos reconstruir apenas as primeiras 10 imagens presentes nos dados, podemos fazer o cálculo acima apenas **com as primeiras 10 linhas de Bm**. Aqui que está o \"pulo do gato\" que faz ser possível calcular as linhas de $U$ referentes apenas aos usuários que queremos, ao invés de calcular para todas as 13 mil linhas da matriz original.\n",
        "\n",
        "Calcule a matriz $U$, porém considerando apenas as 10 primeiras linhas de **Bm**, e guarde o valor na variável **U2_10** (*2.6.1*). Depois disso, use esse $U$ resultante para calcular a reconstrução das primeiras 10 imagens usando um posto reduzido $k=200$. Para isso, podemos apenas usar a matriz **U2_10** calculada anteriormente, e as matrizes $\\Sigma$ e $V$ que foram também calculadas nos exercícios anteriores, e a função que usamos na parte 1 **reconstrucao_aproximada**. Salve esse resultado na variável **imgs2_10** (*2.6.2*).\n",
        "\n",
        "Esse exercício é bem parecido com o **1.6**."
      ]
    },
    {
      "cell_type": "code",
      "metadata": {
        "id": "WfWHRwlSz0e5"
      },
      "source": [
        "## Insira seu código aqui"
      ],
      "execution_count": null,
      "outputs": []
    },
    {
      "cell_type": "markdown",
      "metadata": {
        "id": "SzY_pWI0z0e5"
      },
      "source": [
        "Visualizando as reconstruções:"
      ]
    },
    {
      "cell_type": "code",
      "metadata": {
        "id": "BgF7D5mEz0e6"
      },
      "source": [
        "## NÃO EDITAR ESSA CÉLULA\n",
        "fig, ax = plt.subplots( figsize=(8, 40), nrows=10, ncols=2 )\n",
        "for i in range(10):\n",
        "    img_real = vetor_para_img(B[i])\n",
        "    img_i = vetor_para_img(B_media + imgs2_10[i])\n",
        "\n",
        "    ax[i, 0].imshow(img_real, cmap='gray')\n",
        "    ax[i, 0].set_title('Imagem orig.')\n",
        "    ax[i, 0].axis('off')\n",
        "\n",
        "    ax[i, 1].imshow(img_i, cmap='gray')\n",
        "    ax[i, 1].set_title('Aprox. de posto k={}'.format(posto_k_q27))\n",
        "    ax[i, 1].axis('off')\n",
        "\n",
        "plt.show();"
      ],
      "execution_count": null,
      "outputs": []
    }
  ]
}